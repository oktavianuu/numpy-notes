{
 "cells": [
  {
   "cell_type": "markdown",
   "metadata": {},
   "source": [
    "# NumPy Basics\n",
    "#### Objectives:\n",
    "* Understand the difference between one-, two- and n-dimensional arrays in NumPy;\n",
    "* Understand how to apply some linear algebra operations to n-dimensional arrays without using for-loops;\n",
    "* Understand axis and shape properties for n-dimensional arrays.\n"
   ]
  },
  {
   "cell_type": "markdown",
   "metadata": {},
   "source": []
  },
  {
   "cell_type": "markdown",
   "metadata": {},
   "source": [
    "## Basics \n",
    "The main object in numpy is the homogeneous multidimensional array. It is like table of elements with the same type. One important thing in numpy is that dimensions are called axes. \n",
    "For example the array of `[1, 2, 1]` has one axis. The axis has three elements. The array below is a two dimensional array, meaning that it has two axes. The first axis has the length of two, the second axis has the element of three. "
   ]
  },
  {
   "cell_type": "code",
   "execution_count": 1,
   "metadata": {},
   "outputs": [
    {
     "data": {
      "text/plain": [
       "[[1.0, 0.0, 0.0], [0.0, 1.0, 2.0]]"
      ]
     },
     "execution_count": 1,
     "metadata": {},
     "output_type": "execute_result"
    }
   ],
   "source": [
    "[[1., 0., 0.],\n",
    " [0., 1., 2.]]"
   ]
  },
  {
   "cell_type": "markdown",
   "metadata": {},
   "source": [
    "### ndarray\n",
    "NumPy's array class is called `ndarray`. The following are some of the most important ndarray attributes:\n",
    "- `ndarray.dim`: the number of array's dimension (axes)\n",
    "- `ndarray.shape`: indicating the size of the array in each dimension. It is a tuple with n rows and m columns, `(n, m)`.\n",
    "- `ndarray.size`: total number of elements in the array. Equal to the product of the elements of `shape`.\n",
    "- `ndarray.dtype`: is an object describing the type of elements in the array. In NumPy, some examples are `numpy.int32`, `numpy.int64` and `numpy.float64`.\n",
    "- `ndarray.itemsize`: size in byte of each element in the array.For example, an array of elements of type `float64` has itemsize 8 (=64/8), while one of type complex32 has itemsize 4 (=32/8). It is equivalent to `ndarray.dtype.itemsize`.\n",
    "- `ndarray.data`: the buffer containing the actual elements of the array. Normally, we won’t need to use this attribute because we will access the elements in an array using indexing facilities.\n",
    "\n",
    "**The following code is the example of `ndarray`**:\n",
    "```python\n",
    ">>> import numpy as np\n",
    ">>> a = np.arange(15).reshape(3, 5)\n",
    ">>> a\n",
    "array([[ 0,  1,  2,  3,  4],\n",
    "       [ 5,  6,  7,  8,  9],\n",
    "       [10, 11, 12, 13, 14]])\n",
    ">>> a.shape\n",
    "(3, 5)\n",
    ">>> a.ndim\n",
    "2\n",
    ">>> a.dtype.name\n",
    "'int64'\n",
    ">>> a.itemsize\n",
    "8\n",
    ">>> a.size\n",
    "15\n",
    ">>> type(a)\n",
    "<class 'numpy.ndarray'>\n",
    ">>> b = np.array([6, 7, 8])\n",
    ">>> b\n",
    "array([6, 7, 8])\n",
    ">>> type(b)\n",
    "<class 'numpy.ndarray'>\n",
    "```"
   ]
  },
  {
   "cell_type": "code",
   "execution_count": null,
   "metadata": {},
   "outputs": [],
   "source": []
  }
 ],
 "metadata": {
  "kernelspec": {
   "display_name": "Ai",
   "language": "python",
   "name": "python3"
  },
  "language_info": {
   "codemirror_mode": {
    "name": "ipython",
    "version": 3
   },
   "file_extension": ".py",
   "mimetype": "text/x-python",
   "name": "python",
   "nbconvert_exporter": "python",
   "pygments_lexer": "ipython3",
   "version": "3.11.10"
  }
 },
 "nbformat": 4,
 "nbformat_minor": 2
}
